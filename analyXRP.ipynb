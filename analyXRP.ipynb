{
  "nbformat": 4,
  "nbformat_minor": 0,
  "metadata": {
    "colab": {
      "name": "analyXRP.ipynb",
      "provenance": [],
      "collapsed_sections": []
    },
    "kernelspec": {
      "name": "python3",
      "display_name": "Python 3"
    },
    "language_info": {
      "name": "python"
    }
  },
  "cells": [
    {
      "cell_type": "code",
      "metadata": {
        "id": "RJ-sPHgNSaRF"
      },
      "source": [
        "#reference 1 : https://www.kaggle.com/kaushiksuresh147/performance-analysis-of-top10-crypto-s-in-oct-2021  \n",
        "#reference 2 : https://www.kaggle.com/gneakbulut/bitcoin-price-prediction-rnn-and-lstm  \n",
        "import numpy as np \n",
        "import pandas as pd\n",
        "import matplotlib.pyplot as plt\n",
        "\n",
        "import math\n",
        "from keras.models import Sequential\n",
        "from keras.layers import Dense\n",
        "from keras.layers import LSTM\n",
        "from sklearn.preprocessing import MinMaxScaler\n",
        "from sklearn.metrics import mean_squared_error\n",
        "\n",
        "import warnings\n",
        "warnings.filterwarnings(\"ignore\")"
      ],
      "execution_count": null,
      "outputs": []
    },
    {
      "cell_type": "code",
      "metadata": {
        "colab": {
          "base_uri": "https://localhost:8080/",
          "height": 424
        },
        "id": "aFJnPH01S3zY",
        "outputId": "8b6fc89a-b377-447c-aaac-aa390b2e205a"
      },
      "source": [        
        "from datetime import datetime, timedelta\n",
        "import re\n",
        "\n",
        "df = pd.read_csv(\"/content/sample_data/XRP.csv\")\n",
        "\n",
        "## 날짜 변환\n",
        "df[\"Date\"] = pd.to_datetime(df[\"Date\"]) \n",
        "\n",
        "## 컬럼명 변환\n",
        "df.rename(columns={\"Price\":\"Close\", \"Vol.\":\"Vol\", \"Change %\":\"Change\"}, inplace=True)\n",
        "\n",
        "## \"-\" 값을 Null로 치환\n",
        "#df[\"Vol\"] = df[\"Vol\"].str.replace(\"-\",-1)\n",
        "df = df.replace(\"-\", -1)\n",
        "\n",
        "## Vol값의 카테고리 확인\n",
        "ss =df[\"Vol\"].str[-1:]\n",
        "label = ss.groupby(ss).first()\n",
        "#print(label.apply(list))\n",
        "\n",
        "\n",
        "## Vol값 문자 제거\n",
        "idx = 0\n",
        "for vol, change in zip(df[\"Vol\"], df[\"Change\"]):\n",
        "    if(vol != -1):\n",
        "      volUnit = vol[len(vol) - 1]\n",
        "      if(volUnit == \"M\"):\n",
        "          df[\"Vol\"][idx] = float(vol[:-1]) * 1000\n",
        "      elif(volUnit == \"K\"):          \n",
        "          df[\"Vol\"][idx] = float(vol[:-1]) * 100\n",
        "      elif(volUnit == \"B\"):\n",
        "          df[\"Vol\"][idx] = float(vol[:-1]) * 10     \n",
        "    idx = idx + 1\n",
        "\n",
        "## Vol값에 문자가 제거 되었는지 확인\n",
        "df.sort_values(by=[\"Vol\"])\n",
        "\n",
        "## Change 퍼센트 문자 제거\n",
        "df[\"Change\"] = df[\"Change\"].str.replace(\"%\",\"\")\n",
        "\n",
        "## 타입변경\n",
        "df = df.astype({\"Vol\":\"float\"})\n",
        "df = df.astype({\"Change\":\"float\"})\n",
        "\n",
        "df\n"
      ],
      "execution_count": null,
      "outputs": [
        {
          "output_type": "execute_result",
          "data": {
            "text/html": [
              "<div>\n",
              "<style scoped>\n",
              "    .dataframe tbody tr th:only-of-type {\n",
              "        vertical-align: middle;\n",
              "    }\n",
              "\n",
              "    .dataframe tbody tr th {\n",
              "        vertical-align: top;\n",
              "    }\n",
              "\n",
              "    .dataframe thead th {\n",
              "        text-align: right;\n",
              "    }\n",
              "</style>\n",
              "<table border=\"1\" class=\"dataframe\">\n",
              "  <thead>\n",
              "    <tr style=\"text-align: right;\">\n",
              "      <th></th>\n",
              "      <th>Date</th>\n",
              "      <th>Close</th>\n",
              "      <th>Open</th>\n",
              "      <th>High</th>\n",
              "      <th>Low</th>\n",
              "      <th>Vol</th>\n",
              "      <th>Change</th>\n",
              "    </tr>\n",
              "  </thead>\n",
              "  <tbody>\n",
              "    <tr>\n",
              "      <th>0</th>\n",
              "      <td>2021-11-02</td>\n",
              "      <td>1.13215</td>\n",
              "      <td>1.09204</td>\n",
              "      <td>1.14612</td>\n",
              "      <td>1.08558</td>\n",
              "      <td>480670.0</td>\n",
              "      <td>3.67</td>\n",
              "    </tr>\n",
              "    <tr>\n",
              "      <th>1</th>\n",
              "      <td>2021-11-01</td>\n",
              "      <td>1.09205</td>\n",
              "      <td>1.11265</td>\n",
              "      <td>1.13100</td>\n",
              "      <td>1.07103</td>\n",
              "      <td>501800.0</td>\n",
              "      <td>-1.84</td>\n",
              "    </tr>\n",
              "    <tr>\n",
              "      <th>2</th>\n",
              "      <td>2021-10-31</td>\n",
              "      <td>1.11257</td>\n",
              "      <td>1.08409</td>\n",
              "      <td>1.15205</td>\n",
              "      <td>1.07002</td>\n",
              "      <td>823880.0</td>\n",
              "      <td>2.63</td>\n",
              "    </tr>\n",
              "    <tr>\n",
              "      <th>3</th>\n",
              "      <td>2021-10-30</td>\n",
              "      <td>1.08406</td>\n",
              "      <td>1.08107</td>\n",
              "      <td>1.11542</td>\n",
              "      <td>1.06318</td>\n",
              "      <td>479640.0</td>\n",
              "      <td>0.29</td>\n",
              "    </tr>\n",
              "    <tr>\n",
              "      <th>4</th>\n",
              "      <td>2021-10-29</td>\n",
              "      <td>1.08098</td>\n",
              "      <td>1.05806</td>\n",
              "      <td>1.09004</td>\n",
              "      <td>1.05521</td>\n",
              "      <td>484840.0</td>\n",
              "      <td>2.18</td>\n",
              "    </tr>\n",
              "    <tr>\n",
              "      <th>...</th>\n",
              "      <td>...</td>\n",
              "      <td>...</td>\n",
              "      <td>...</td>\n",
              "      <td>...</td>\n",
              "      <td>...</td>\n",
              "      <td>...</td>\n",
              "      <td>...</td>\n",
              "    </tr>\n",
              "    <tr>\n",
              "      <th>2472</th>\n",
              "      <td>2015-01-26</td>\n",
              "      <td>0.01469</td>\n",
              "      <td>0.01700</td>\n",
              "      <td>0.01750</td>\n",
              "      <td>0.01469</td>\n",
              "      <td>-1.0</td>\n",
              "      <td>-13.59</td>\n",
              "    </tr>\n",
              "    <tr>\n",
              "      <th>2473</th>\n",
              "      <td>2015-01-25</td>\n",
              "      <td>0.01700</td>\n",
              "      <td>0.01739</td>\n",
              "      <td>0.01739</td>\n",
              "      <td>0.01560</td>\n",
              "      <td>-1.0</td>\n",
              "      <td>-2.24</td>\n",
              "    </tr>\n",
              "    <tr>\n",
              "      <th>2474</th>\n",
              "      <td>2015-01-24</td>\n",
              "      <td>0.01739</td>\n",
              "      <td>0.01600</td>\n",
              "      <td>0.01739</td>\n",
              "      <td>0.01500</td>\n",
              "      <td>-1.0</td>\n",
              "      <td>8.69</td>\n",
              "    </tr>\n",
              "    <tr>\n",
              "      <th>2475</th>\n",
              "      <td>2015-01-23</td>\n",
              "      <td>0.01600</td>\n",
              "      <td>0.01602</td>\n",
              "      <td>0.01700</td>\n",
              "      <td>0.01600</td>\n",
              "      <td>-1.0</td>\n",
              "      <td>-0.12</td>\n",
              "    </tr>\n",
              "    <tr>\n",
              "      <th>2476</th>\n",
              "      <td>2015-01-22</td>\n",
              "      <td>0.01602</td>\n",
              "      <td>0.01523</td>\n",
              "      <td>0.01750</td>\n",
              "      <td>0.01523</td>\n",
              "      <td>-1.0</td>\n",
              "      <td>5.19</td>\n",
              "    </tr>\n",
              "  </tbody>\n",
              "</table>\n",
              "<p>2477 rows × 7 columns</p>\n",
              "</div>"
            ],
            "text/plain": [
              "           Date    Close     Open     High      Low       Vol  Change\n",
              "0    2021-11-02  1.13215  1.09204  1.14612  1.08558  480670.0    3.67\n",
              "1    2021-11-01  1.09205  1.11265  1.13100  1.07103  501800.0   -1.84\n",
              "2    2021-10-31  1.11257  1.08409  1.15205  1.07002  823880.0    2.63\n",
              "3    2021-10-30  1.08406  1.08107  1.11542  1.06318  479640.0    0.29\n",
              "4    2021-10-29  1.08098  1.05806  1.09004  1.05521  484840.0    2.18\n",
              "...         ...      ...      ...      ...      ...       ...     ...\n",
              "2472 2015-01-26  0.01469  0.01700  0.01750  0.01469      -1.0  -13.59\n",
              "2473 2015-01-25  0.01700  0.01739  0.01739  0.01560      -1.0   -2.24\n",
              "2474 2015-01-24  0.01739  0.01600  0.01739  0.01500      -1.0    8.69\n",
              "2475 2015-01-23  0.01600  0.01602  0.01700  0.01600      -1.0   -0.12\n",
              "2476 2015-01-22  0.01602  0.01523  0.01750  0.01523      -1.0    5.19\n",
              "\n",
              "[2477 rows x 7 columns]"
            ]
          },
          "metadata": {},
          "execution_count": 398
        }
      ]
    },
    {
      "cell_type": "code",
      "metadata": {
        "id": "73CCRVWjS7yz"
      },
      "source": [
        "import calendar\n",
        "\n",
        "def getWeekFirstAndLastDay(date):\n",
        "    date_obj = datetime.strptime(date, '%Y-%m-%d')\n",
        "\n",
        "    start_of_week = date_obj - timedelta(days=date_obj.weekday())  # Monday\n",
        "    end_of_week = start_of_week + timedelta(days=6)\n",
        "    #dt = date.strftime(\"%Y-%m-%d\")\n",
        "    #return start_of_week\n",
        "    #return (start_of_week, end_of_week)\n",
        "    return (start_of_week.strftime(\"%Y-%m-%d\"), end_of_week.strftime(\"%Y-%m-%d\"))\n",
        "\n",
        "\n",
        "\n",
        "def getMonthDataMean(date):    \n",
        "    yy = date.strftime(\"%Y\")\n",
        "    mm = date.strftime(\"%m\")\n",
        "    last_day = calendar.monthrange(int(yy), int(mm))[1]\n",
        "\n",
        "    month_str = yy + mm + \"01\"\n",
        "    month_end = yy + mm + str(last_day)\n",
        "\n",
        "    month_df = df[(df['Date']>=month_str) & (df['Date']<=month_end)]\n",
        "    \n",
        "    return str(month_df[\"Vol\"].mean())\n"
      ],
      "execution_count": null,
      "outputs": []
    },
    {
      "cell_type": "code",
      "metadata": {
        "id": "GTQj5xWRTBtk"
      },
      "source": [
        "index = 0\n",
        "## 복사한 이유 : 기존 df로하면 데이터가 실시간으로 반영되서 주간 월간 평균이 변경될수 있기때문에\n",
        "bf_df = df.copy()\n",
        "for date, vol in zip(bf_df[\"Date\"], bf_df[\"Vol\"]):\n",
        "    if(vol < 1):\n",
        "        dt = date.strftime(\"%Y-%m-%d\")\n",
        "        strDt, endDt = getWeekFirstAndLastDay(dt)\n",
        "\n",
        "        week_df = bf_df[(bf_df['Date']>=strDt) & (bf_df['Date']<=endDt)]\n",
        "        ##-1로 되어있는 거래량을 주간단위로 평균 구하기\n",
        "        vol_mean = week_df[\"Vol\"].mean()\n",
        "        #print(type(vol_mean))\n",
        "        ##주간단위로 평균을 구했을때 -1이면 거래량을 월간단위로 평균 구하기\n",
        "        \n",
        "        if(vol_mean < 1):          \n",
        "            df[\"Vol\"][index] = getMonthDataMean(date)\n",
        "        else:\n",
        "            df[\"Vol\"][index] = vol_mean\n",
        "    index = index + 1\n",
        "\n",
        "#df.to_excel('text.xlsx')\n",
        "#df.sort_values(by=[\"Vol\"])"
      ],
      "execution_count": null,
      "outputs": []
    },
    {
      "cell_type": "code",
      "metadata": {
        "colab": {
          "base_uri": "https://localhost:8080/"
        },
        "id": "mM6kXkj5E5st",
        "outputId": "6952d971-1e12-41d5-d2ae-950f1e2e54c6"
      },
      "source": [
        "## 데이터 확인\n",
        "#df.sort_values(by=[\"Vol\"])\n",
        "df[\"Vol\"][(df[\"Vol\"] < 2)]\n",
        "\n",
        "#################### 데이터 가공 끝(전처리) ########################"
      ],
      "execution_count": null,
      "outputs": [
        {
          "output_type": "execute_result",
          "data": {
            "text/plain": [
              "2011    1.000000\n",
              "2135    1.000000\n",
              "2210    1.000000\n",
              "2245    1.000000\n",
              "2310    1.000000\n",
              "2312    1.000000\n",
              "2360    1.000000\n",
              "2361    1.000000\n",
              "2381    1.000000\n",
              "2433    1.000000\n",
              "2439    1.678571\n",
              "2440    1.774235\n",
              "2442    1.873315\n",
              "2443    1.975933\n",
              "Name: Vol, dtype: float64"
            ]
          },
          "metadata": {},
          "execution_count": 344
        }
      ]
    },
    {
      "cell_type": "code",
      "metadata": {
        "colab": {
          "base_uri": "https://localhost:8080/",
          "height": 424
        },
        "id": "LhjtAZTNZQe0",
        "outputId": "6bc13570-d146-4447-830e-59aa2c3209d6"
      },
      "source": [
        "grouped_data = df.groupby('Date', as_index = False).mean()\n",
        "grouped_data"
      ],
      "execution_count": null,
      "outputs": [
        {
          "output_type": "execute_result",
          "data": {
            "text/html": [
              "<div>\n",
              "<style scoped>\n",
              "    .dataframe tbody tr th:only-of-type {\n",
              "        vertical-align: middle;\n",
              "    }\n",
              "\n",
              "    .dataframe tbody tr th {\n",
              "        vertical-align: top;\n",
              "    }\n",
              "\n",
              "    .dataframe thead th {\n",
              "        text-align: right;\n",
              "    }\n",
              "</style>\n",
              "<table border=\"1\" class=\"dataframe\">\n",
              "  <thead>\n",
              "    <tr style=\"text-align: right;\">\n",
              "      <th></th>\n",
              "      <th>Date</th>\n",
              "      <th>Close</th>\n",
              "      <th>Open</th>\n",
              "      <th>High</th>\n",
              "      <th>Low</th>\n",
              "      <th>Vol</th>\n",
              "      <th>Change</th>\n",
              "    </tr>\n",
              "  </thead>\n",
              "  <tbody>\n",
              "    <tr>\n",
              "      <th>0</th>\n",
              "      <td>2015-01-22</td>\n",
              "      <td>0.01602</td>\n",
              "      <td>0.01523</td>\n",
              "      <td>0.01750</td>\n",
              "      <td>0.01523</td>\n",
              "      <td>47.106143</td>\n",
              "      <td>5.19</td>\n",
              "    </tr>\n",
              "    <tr>\n",
              "      <th>1</th>\n",
              "      <td>2015-01-23</td>\n",
              "      <td>0.01600</td>\n",
              "      <td>0.01602</td>\n",
              "      <td>0.01700</td>\n",
              "      <td>0.01600</td>\n",
              "      <td>42.732857</td>\n",
              "      <td>-0.12</td>\n",
              "    </tr>\n",
              "    <tr>\n",
              "      <th>2</th>\n",
              "      <td>2015-01-24</td>\n",
              "      <td>0.01739</td>\n",
              "      <td>0.01600</td>\n",
              "      <td>0.01739</td>\n",
              "      <td>0.01500</td>\n",
              "      <td>38.757143</td>\n",
              "      <td>8.69</td>\n",
              "    </tr>\n",
              "    <tr>\n",
              "      <th>3</th>\n",
              "      <td>2015-01-25</td>\n",
              "      <td>0.01700</td>\n",
              "      <td>0.01739</td>\n",
              "      <td>0.01739</td>\n",
              "      <td>0.01560</td>\n",
              "      <td>35.142857</td>\n",
              "      <td>-2.24</td>\n",
              "    </tr>\n",
              "    <tr>\n",
              "      <th>4</th>\n",
              "      <td>2015-01-26</td>\n",
              "      <td>0.01469</td>\n",
              "      <td>0.01700</td>\n",
              "      <td>0.01750</td>\n",
              "      <td>0.01469</td>\n",
              "      <td>32.857143</td>\n",
              "      <td>-13.59</td>\n",
              "    </tr>\n",
              "    <tr>\n",
              "      <th>...</th>\n",
              "      <td>...</td>\n",
              "      <td>...</td>\n",
              "      <td>...</td>\n",
              "      <td>...</td>\n",
              "      <td>...</td>\n",
              "      <td>...</td>\n",
              "      <td>...</td>\n",
              "    </tr>\n",
              "    <tr>\n",
              "      <th>2472</th>\n",
              "      <td>2021-10-29</td>\n",
              "      <td>1.08098</td>\n",
              "      <td>1.05806</td>\n",
              "      <td>1.09004</td>\n",
              "      <td>1.05521</td>\n",
              "      <td>484840.000000</td>\n",
              "      <td>2.18</td>\n",
              "    </tr>\n",
              "    <tr>\n",
              "      <th>2473</th>\n",
              "      <td>2021-10-30</td>\n",
              "      <td>1.08406</td>\n",
              "      <td>1.08107</td>\n",
              "      <td>1.11542</td>\n",
              "      <td>1.06318</td>\n",
              "      <td>479640.000000</td>\n",
              "      <td>0.29</td>\n",
              "    </tr>\n",
              "    <tr>\n",
              "      <th>2474</th>\n",
              "      <td>2021-10-31</td>\n",
              "      <td>1.11257</td>\n",
              "      <td>1.08409</td>\n",
              "      <td>1.15205</td>\n",
              "      <td>1.07002</td>\n",
              "      <td>823880.000000</td>\n",
              "      <td>2.63</td>\n",
              "    </tr>\n",
              "    <tr>\n",
              "      <th>2475</th>\n",
              "      <td>2021-11-01</td>\n",
              "      <td>1.09205</td>\n",
              "      <td>1.11265</td>\n",
              "      <td>1.13100</td>\n",
              "      <td>1.07103</td>\n",
              "      <td>501800.000000</td>\n",
              "      <td>-1.84</td>\n",
              "    </tr>\n",
              "    <tr>\n",
              "      <th>2476</th>\n",
              "      <td>2021-11-02</td>\n",
              "      <td>1.13215</td>\n",
              "      <td>1.09204</td>\n",
              "      <td>1.14612</td>\n",
              "      <td>1.08558</td>\n",
              "      <td>480670.000000</td>\n",
              "      <td>3.67</td>\n",
              "    </tr>\n",
              "  </tbody>\n",
              "</table>\n",
              "<p>2477 rows × 7 columns</p>\n",
              "</div>"
            ],
            "text/plain": [
              "           Date    Close     Open     High      Low            Vol  Change\n",
              "0    2015-01-22  0.01602  0.01523  0.01750  0.01523      47.106143    5.19\n",
              "1    2015-01-23  0.01600  0.01602  0.01700  0.01600      42.732857   -0.12\n",
              "2    2015-01-24  0.01739  0.01600  0.01739  0.01500      38.757143    8.69\n",
              "3    2015-01-25  0.01700  0.01739  0.01739  0.01560      35.142857   -2.24\n",
              "4    2015-01-26  0.01469  0.01700  0.01750  0.01469      32.857143  -13.59\n",
              "...         ...      ...      ...      ...      ...            ...     ...\n",
              "2472 2021-10-29  1.08098  1.05806  1.09004  1.05521  484840.000000    2.18\n",
              "2473 2021-10-30  1.08406  1.08107  1.11542  1.06318  479640.000000    0.29\n",
              "2474 2021-10-31  1.11257  1.08409  1.15205  1.07002  823880.000000    2.63\n",
              "2475 2021-11-01  1.09205  1.11265  1.13100  1.07103  501800.000000   -1.84\n",
              "2476 2021-11-02  1.13215  1.09204  1.14612  1.08558  480670.000000    3.67\n",
              "\n",
              "[2477 rows x 7 columns]"
            ]
          },
          "metadata": {},
          "execution_count": 401
        }
      ]
    },
    {
      "cell_type": "code",
      "metadata": {
        "colab": {
          "base_uri": "https://localhost:8080/"
        },
        "id": "Ag19QzZNLexJ",
        "outputId": "a6b3ddc1-23e4-42b1-bb7e-4327711cbc1f"
      },
      "source": [
        "#df.isna().sum()\n",
        "#df.sort_values(by=[\"Date\"])\n",
        "#len(df)\n",
        "#Train and Test Split\n",
        "train_size = int(len(grouped_data) * 0.9)\n",
        "test_size = len(grouped_data) - train_size\n",
        "df_train = grouped_data.iloc[0:train_size, :]\n",
        "df_test = grouped_data.iloc[train_size:len(df), :]\n",
        "print(\"Train size: {}, Test size: {}, Total size: {}\".format(len(df_train), len(df_test), len(df)))"
      ],
      "execution_count": null,
      "outputs": [
        {
          "output_type": "stream",
          "name": "stdout",
          "text": [
            "Train size: 2229, Test size: 248, Total size: 2477\n"
          ]
        }
      ]
    },
    {
      "cell_type": "code",
      "metadata": {
        "colab": {
          "base_uri": "https://localhost:8080/",
          "height": 424
        },
        "id": "7_KK8sL5QWHi",
        "outputId": "5059065b-40d1-4498-e8df-5f48e980765e"
      },
      "source": [
        "df_train"
      ],
      "execution_count": null,
      "outputs": [
        {
          "output_type": "execute_result",
          "data": {
            "text/html": [
              "<div>\n",
              "<style scoped>\n",
              "    .dataframe tbody tr th:only-of-type {\n",
              "        vertical-align: middle;\n",
              "    }\n",
              "\n",
              "    .dataframe tbody tr th {\n",
              "        vertical-align: top;\n",
              "    }\n",
              "\n",
              "    .dataframe thead th {\n",
              "        text-align: right;\n",
              "    }\n",
              "</style>\n",
              "<table border=\"1\" class=\"dataframe\">\n",
              "  <thead>\n",
              "    <tr style=\"text-align: right;\">\n",
              "      <th></th>\n",
              "      <th>Date</th>\n",
              "      <th>Close</th>\n",
              "      <th>Open</th>\n",
              "      <th>High</th>\n",
              "      <th>Low</th>\n",
              "      <th>Vol</th>\n",
              "      <th>Change</th>\n",
              "    </tr>\n",
              "  </thead>\n",
              "  <tbody>\n",
              "    <tr>\n",
              "      <th>0</th>\n",
              "      <td>2015-01-22</td>\n",
              "      <td>0.01602</td>\n",
              "      <td>0.01523</td>\n",
              "      <td>0.01750</td>\n",
              "      <td>0.01523</td>\n",
              "      <td>47.106143</td>\n",
              "      <td>5.19</td>\n",
              "    </tr>\n",
              "    <tr>\n",
              "      <th>1</th>\n",
              "      <td>2015-01-23</td>\n",
              "      <td>0.01600</td>\n",
              "      <td>0.01602</td>\n",
              "      <td>0.01700</td>\n",
              "      <td>0.01600</td>\n",
              "      <td>42.732857</td>\n",
              "      <td>-0.12</td>\n",
              "    </tr>\n",
              "    <tr>\n",
              "      <th>2</th>\n",
              "      <td>2015-01-24</td>\n",
              "      <td>0.01739</td>\n",
              "      <td>0.01600</td>\n",
              "      <td>0.01739</td>\n",
              "      <td>0.01500</td>\n",
              "      <td>38.757143</td>\n",
              "      <td>8.69</td>\n",
              "    </tr>\n",
              "    <tr>\n",
              "      <th>3</th>\n",
              "      <td>2015-01-25</td>\n",
              "      <td>0.01700</td>\n",
              "      <td>0.01739</td>\n",
              "      <td>0.01739</td>\n",
              "      <td>0.01560</td>\n",
              "      <td>35.142857</td>\n",
              "      <td>-2.24</td>\n",
              "    </tr>\n",
              "    <tr>\n",
              "      <th>4</th>\n",
              "      <td>2015-01-26</td>\n",
              "      <td>0.01469</td>\n",
              "      <td>0.01700</td>\n",
              "      <td>0.01750</td>\n",
              "      <td>0.01469</td>\n",
              "      <td>32.857143</td>\n",
              "      <td>-13.59</td>\n",
              "    </tr>\n",
              "    <tr>\n",
              "      <th>...</th>\n",
              "      <td>...</td>\n",
              "      <td>...</td>\n",
              "      <td>...</td>\n",
              "      <td>...</td>\n",
              "      <td>...</td>\n",
              "      <td>...</td>\n",
              "      <td>...</td>\n",
              "    </tr>\n",
              "    <tr>\n",
              "      <th>2224</th>\n",
              "      <td>2021-02-23</td>\n",
              "      <td>0.47490</td>\n",
              "      <td>0.56581</td>\n",
              "      <td>0.57060</td>\n",
              "      <td>0.36720</td>\n",
              "      <td>42.200000</td>\n",
              "      <td>-16.07</td>\n",
              "    </tr>\n",
              "    <tr>\n",
              "      <th>2225</th>\n",
              "      <td>2021-02-24</td>\n",
              "      <td>0.46923</td>\n",
              "      <td>0.47613</td>\n",
              "      <td>0.49934</td>\n",
              "      <td>0.45168</td>\n",
              "      <td>15.600000</td>\n",
              "      <td>-1.19</td>\n",
              "    </tr>\n",
              "    <tr>\n",
              "      <th>2226</th>\n",
              "      <td>2021-02-25</td>\n",
              "      <td>0.43561</td>\n",
              "      <td>0.46849</td>\n",
              "      <td>0.48146</td>\n",
              "      <td>0.42599</td>\n",
              "      <td>10.800000</td>\n",
              "      <td>-7.17</td>\n",
              "    </tr>\n",
              "    <tr>\n",
              "      <th>2227</th>\n",
              "      <td>2021-02-26</td>\n",
              "      <td>0.42783</td>\n",
              "      <td>0.43592</td>\n",
              "      <td>0.45033</td>\n",
              "      <td>0.41300</td>\n",
              "      <td>14.200000</td>\n",
              "      <td>-1.79</td>\n",
              "    </tr>\n",
              "    <tr>\n",
              "      <th>2228</th>\n",
              "      <td>2021-02-27</td>\n",
              "      <td>0.43574</td>\n",
              "      <td>0.42784</td>\n",
              "      <td>0.45794</td>\n",
              "      <td>0.42778</td>\n",
              "      <td>896320.000000</td>\n",
              "      <td>1.85</td>\n",
              "    </tr>\n",
              "  </tbody>\n",
              "</table>\n",
              "<p>2229 rows × 7 columns</p>\n",
              "</div>"
            ],
            "text/plain": [
              "           Date    Close     Open     High      Low            Vol  Change\n",
              "0    2015-01-22  0.01602  0.01523  0.01750  0.01523      47.106143    5.19\n",
              "1    2015-01-23  0.01600  0.01602  0.01700  0.01600      42.732857   -0.12\n",
              "2    2015-01-24  0.01739  0.01600  0.01739  0.01500      38.757143    8.69\n",
              "3    2015-01-25  0.01700  0.01739  0.01739  0.01560      35.142857   -2.24\n",
              "4    2015-01-26  0.01469  0.01700  0.01750  0.01469      32.857143  -13.59\n",
              "...         ...      ...      ...      ...      ...            ...     ...\n",
              "2224 2021-02-23  0.47490  0.56581  0.57060  0.36720      42.200000  -16.07\n",
              "2225 2021-02-24  0.46923  0.47613  0.49934  0.45168      15.600000   -1.19\n",
              "2226 2021-02-25  0.43561  0.46849  0.48146  0.42599      10.800000   -7.17\n",
              "2227 2021-02-26  0.42783  0.43592  0.45033  0.41300      14.200000   -1.79\n",
              "2228 2021-02-27  0.43574  0.42784  0.45794  0.42778  896320.000000    1.85\n",
              "\n",
              "[2229 rows x 7 columns]"
            ]
          },
          "metadata": {},
          "execution_count": 390
        }
      ]
    },
    {
      "cell_type": "code",
      "metadata": {
        "colab": {
          "base_uri": "https://localhost:8080/",
          "height": 424
        },
        "id": "OYg_Q9bwQc6l",
        "outputId": "7b1f5170-eb32-41e6-e5ba-67468e316ba2"
      },
      "source": [
        "df_test"
      ],
      "execution_count": null,
      "outputs": [
        {
          "output_type": "execute_result",
          "data": {
            "text/html": [
              "<div>\n",
              "<style scoped>\n",
              "    .dataframe tbody tr th:only-of-type {\n",
              "        vertical-align: middle;\n",
              "    }\n",
              "\n",
              "    .dataframe tbody tr th {\n",
              "        vertical-align: top;\n",
              "    }\n",
              "\n",
              "    .dataframe thead th {\n",
              "        text-align: right;\n",
              "    }\n",
              "</style>\n",
              "<table border=\"1\" class=\"dataframe\">\n",
              "  <thead>\n",
              "    <tr style=\"text-align: right;\">\n",
              "      <th></th>\n",
              "      <th>Date</th>\n",
              "      <th>Close</th>\n",
              "      <th>Open</th>\n",
              "      <th>High</th>\n",
              "      <th>Low</th>\n",
              "      <th>Vol</th>\n",
              "      <th>Change</th>\n",
              "    </tr>\n",
              "  </thead>\n",
              "  <tbody>\n",
              "    <tr>\n",
              "      <th>2229</th>\n",
              "      <td>2021-02-28</td>\n",
              "      <td>0.41528</td>\n",
              "      <td>0.43578</td>\n",
              "      <td>0.43789</td>\n",
              "      <td>0.39340</td>\n",
              "      <td>10.5</td>\n",
              "      <td>-4.69</td>\n",
              "    </tr>\n",
              "    <tr>\n",
              "      <th>2230</th>\n",
              "      <td>2021-03-01</td>\n",
              "      <td>0.44551</td>\n",
              "      <td>0.41566</td>\n",
              "      <td>0.45262</td>\n",
              "      <td>0.41226</td>\n",
              "      <td>927260.0</td>\n",
              "      <td>7.28</td>\n",
              "    </tr>\n",
              "    <tr>\n",
              "      <th>2231</th>\n",
              "      <td>2021-03-02</td>\n",
              "      <td>0.43582</td>\n",
              "      <td>0.44546</td>\n",
              "      <td>0.45414</td>\n",
              "      <td>0.42297</td>\n",
              "      <td>920490.0</td>\n",
              "      <td>-2.18</td>\n",
              "    </tr>\n",
              "    <tr>\n",
              "      <th>2232</th>\n",
              "      <td>2021-03-03</td>\n",
              "      <td>0.44844</td>\n",
              "      <td>0.43582</td>\n",
              "      <td>0.46723</td>\n",
              "      <td>0.43140</td>\n",
              "      <td>917030.0</td>\n",
              "      <td>2.90</td>\n",
              "    </tr>\n",
              "    <tr>\n",
              "      <th>2233</th>\n",
              "      <td>2021-03-04</td>\n",
              "      <td>0.48088</td>\n",
              "      <td>0.44844</td>\n",
              "      <td>0.49380</td>\n",
              "      <td>0.43623</td>\n",
              "      <td>18.3</td>\n",
              "      <td>7.23</td>\n",
              "    </tr>\n",
              "    <tr>\n",
              "      <th>...</th>\n",
              "      <td>...</td>\n",
              "      <td>...</td>\n",
              "      <td>...</td>\n",
              "      <td>...</td>\n",
              "      <td>...</td>\n",
              "      <td>...</td>\n",
              "      <td>...</td>\n",
              "    </tr>\n",
              "    <tr>\n",
              "      <th>2472</th>\n",
              "      <td>2021-10-29</td>\n",
              "      <td>1.08098</td>\n",
              "      <td>1.05806</td>\n",
              "      <td>1.09004</td>\n",
              "      <td>1.05521</td>\n",
              "      <td>484840.0</td>\n",
              "      <td>2.18</td>\n",
              "    </tr>\n",
              "    <tr>\n",
              "      <th>2473</th>\n",
              "      <td>2021-10-30</td>\n",
              "      <td>1.08406</td>\n",
              "      <td>1.08107</td>\n",
              "      <td>1.11542</td>\n",
              "      <td>1.06318</td>\n",
              "      <td>479640.0</td>\n",
              "      <td>0.29</td>\n",
              "    </tr>\n",
              "    <tr>\n",
              "      <th>2474</th>\n",
              "      <td>2021-10-31</td>\n",
              "      <td>1.11257</td>\n",
              "      <td>1.08409</td>\n",
              "      <td>1.15205</td>\n",
              "      <td>1.07002</td>\n",
              "      <td>823880.0</td>\n",
              "      <td>2.63</td>\n",
              "    </tr>\n",
              "    <tr>\n",
              "      <th>2475</th>\n",
              "      <td>2021-11-01</td>\n",
              "      <td>1.09205</td>\n",
              "      <td>1.11265</td>\n",
              "      <td>1.13100</td>\n",
              "      <td>1.07103</td>\n",
              "      <td>501800.0</td>\n",
              "      <td>-1.84</td>\n",
              "    </tr>\n",
              "    <tr>\n",
              "      <th>2476</th>\n",
              "      <td>2021-11-02</td>\n",
              "      <td>1.13215</td>\n",
              "      <td>1.09204</td>\n",
              "      <td>1.14612</td>\n",
              "      <td>1.08558</td>\n",
              "      <td>480670.0</td>\n",
              "      <td>3.67</td>\n",
              "    </tr>\n",
              "  </tbody>\n",
              "</table>\n",
              "<p>248 rows × 7 columns</p>\n",
              "</div>"
            ],
            "text/plain": [
              "           Date    Close     Open     High      Low       Vol  Change\n",
              "2229 2021-02-28  0.41528  0.43578  0.43789  0.39340      10.5   -4.69\n",
              "2230 2021-03-01  0.44551  0.41566  0.45262  0.41226  927260.0    7.28\n",
              "2231 2021-03-02  0.43582  0.44546  0.45414  0.42297  920490.0   -2.18\n",
              "2232 2021-03-03  0.44844  0.43582  0.46723  0.43140  917030.0    2.90\n",
              "2233 2021-03-04  0.48088  0.44844  0.49380  0.43623      18.3    7.23\n",
              "...         ...      ...      ...      ...      ...       ...     ...\n",
              "2472 2021-10-29  1.08098  1.05806  1.09004  1.05521  484840.0    2.18\n",
              "2473 2021-10-30  1.08406  1.08107  1.11542  1.06318  479640.0    0.29\n",
              "2474 2021-10-31  1.11257  1.08409  1.15205  1.07002  823880.0    2.63\n",
              "2475 2021-11-01  1.09205  1.11265  1.13100  1.07103  501800.0   -1.84\n",
              "2476 2021-11-02  1.13215  1.09204  1.14612  1.08558  480670.0    3.67\n",
              "\n",
              "[248 rows x 7 columns]"
            ]
          },
          "metadata": {},
          "execution_count": 391
        }
      ]
    },
    {
      "cell_type": "code",
      "metadata": {
        "colab": {
          "base_uri": "https://localhost:8080/",
          "height": 295
        },
        "id": "7bXKRQ-8QoO1",
        "outputId": "920c37e2-aba1-4d5f-8611-d57c834f347f"
      },
      "source": [
        "data_plot = grouped_data.loc[:, [\"Close\"]].values\n",
        "plt.plot(data_plot)\n",
        "plt.xlabel(\"Time\")\n",
        "plt.ylabel(\"Values of Close\")\n",
        "plt.title(\"XRP Close Prices\")\n",
        "plt.show()"
      ],
      "execution_count": null,
      "outputs": [
        {
          "output_type": "display_data",
          "data": {
            "image/png": "[encoded data removed]",
            "text/plain": [
              "<Figure size 432x288 with 1 Axes>"
            ]
          },
          "metadata": {
            "needs_background": "light"
          }
        }
      ]
    },
    {
      "cell_type": "code",
      "metadata": {
        "colab": {
          "base_uri": "https://localhost:8080/"
        },
        "id": "112gbGCIZswg",
        "outputId": "5aacb60b-fa28-4513-8f52-017066ab2250"
      },
      "source": [
        "dataset = df_train.loc[:, [\"Close\"]].values\n",
        "dataset.shape"
      ],
      "execution_count": null,
      "outputs": [
        {
          "output_type": "execute_result",
          "data": {
            "text/plain": [
              "(2229, 1)"
            ]
          },
          "metadata": {},
          "execution_count": 404
        }
      ]
    },
    {
      "cell_type": "code",
      "metadata": {
        "colab": {
          "base_uri": "https://localhost:8080/"
        },
        "id": "-dfIaX0FXTPG",
        "outputId": "b4238da2-fcda-4fc2-cec4-a2db9ab99866"
      },
      "source": [
        "#reshape\n",
        "dataset = dataset.reshape(-1, 1)\n",
        "\n",
        "#change type\n",
        "dataset = dataset.astype(\"float32\")\n",
        "dataset.shape"
      ],
      "execution_count": null,
      "outputs": [
        {
          "output_type": "execute_result",
          "data": {
            "text/plain": [
              "(2229, 1)"
            ]
          },
          "metadata": {},
          "execution_count": 405
        }
      ]
    },
    {
      "cell_type": "code",
      "metadata": {
        "colab": {
          "base_uri": "https://localhost:8080/"
        },
        "id": "v8aqHyWNWK05",
        "outputId": "92407fa1-85bd-438d-8620-cd7c7978e0bf"
      },
      "source": [
        "# Feature Scaling\n",
        "from sklearn.preprocessing import MinMaxScaler\n",
        "scaler = MinMaxScaler(feature_range = (0, 1))\n",
        "data_scaled = scaler.fit_transform(dataset)\n",
        "data_scaled"
      ],
      "execution_count": null,
      "outputs": [
        {
          "output_type": "execute_result",
          "data": {
            "text/plain": [
              "array([[0.00448776],\n",
              "       [0.00448056],\n",
              "       [0.0049812 ],\n",
              "       ...,\n",
              "       [0.15561295],\n",
              "       [0.1528108 ],\n",
              "       [0.15565977]], dtype=float32)"
            ]
          },
          "metadata": {},
          "execution_count": 406
        }
      ]
    },
    {
      "cell_type": "code",
      "metadata": {
        "colab": {
          "base_uri": "https://localhost:8080/",
          "height": 295
        },
        "id": "f5eT7bQ6XlbM",
        "outputId": "58e4cfc9-91af-49de-e8aa-f1d008ad252b"
      },
      "source": [
        "plt.plot(data_scaled)\n",
        "plt.xlabel(\"Time\")\n",
        "plt.ylabel(\"Values of Close\")\n",
        "plt.title(\"Bitcoin Close Price (Scaled)\")\n",
        "plt.show()"
      ],
      "execution_count": null,
      "outputs": [
        {
          "output_type": "display_data",
          "data": {
            "image/png": "[encoded data removed]",
            "text/plain": [
              "<Figure size 432x288 with 1 Axes>"
            ]
          },
          "metadata": {
            "needs_background": "light"
          }
        }
      ]
    },
    {
      "cell_type": "code",
      "metadata": {
        "colab": {
          "base_uri": "https://localhost:8080/"
        },
        "id": "XvDjdhSVfPrV",
        "outputId": "bced73cf-3c96-498f-b18f-25f2047c64a2"
      },
      "source": [
        "data_scaled.shape[0]\n",
        "data_scaled[11-10:11, 0]\n",
        "len(data_scaled)"
      ],
      "execution_count": null,
      "outputs": [
        {
          "output_type": "execute_result",
          "data": {
            "text/plain": [
              "2229"
            ]
          },
          "metadata": {},
          "execution_count": 415
        }
      ]
    },
    {
      "cell_type": "code",
      "metadata": {
        "colab": {
          "base_uri": "https://localhost:8080/"
        },
        "id": "j4lgu4GQaEEq",
        "outputId": "a0a9c579-54fc-4f97-9d8b-25ef7128e8bc"
      },
      "source": [
        "# Creating a data structure with 10 time_step and 1 output\n",
        "X_train = []\n",
        "y_train = []\n",
        "time_step = 10\n",
        "for i in range(time_step, data_scaled.shape[0]):\n",
        "    X_train.append(data_scaled[i-time_step:i, 0])\n",
        "    y_train.append(data_scaled[i, 0])\n",
        "X_train, y_train = np.array(X_train), np.array(y_train)\n",
        "\n",
        "print(\"X_train shape: \", X_train.shape)\n",
        "print(\"y_train shape: \", y_train.shape)"
      ],
      "execution_count": null,
      "outputs": [
        {
          "output_type": "stream",
          "name": "stdout",
          "text": [
            "X_train shape:  (2219, 10)\n",
            "y_train shape:  (2219,)\n"
          ]
        }
      ]
    },
    {
      "cell_type": "code",
      "metadata": {
        "colab": {
          "base_uri": "https://localhost:8080/"
        },
        "id": "DAUFNBvJgA29",
        "outputId": "81d25dcd-abfe-43e2-a329-5e7b358eda03"
      },
      "source": [
        "# Reshaping to 3D\n",
        "X_train = np.reshape(X_train, (X_train.shape[0], X_train.shape[1], 1))\n",
        "print(\"X_train shape: \",X_train.shape)\n",
        "print(\"y_train shape: \",y_train.shape)"
      ],
      "execution_count": null,
      "outputs": [
        {
          "output_type": "stream",
          "name": "stdout",
          "text": [
            "X_train shape:  (2219, 10, 1)\n",
            "y_train shape:  (2219,)\n"
          ]
        }
      ]
    },
    {
      "cell_type": "code",
      "metadata": {
        "id": "xHYmM1dDgF-k"
      },
      "source": [
        "from keras.models import Sequential\n",
        "from keras.layers import Dense\n",
        "from keras.layers import SimpleRNN\n",
        "from keras.layers import Dropout"
      ],
      "execution_count": null,
      "outputs": []
    },
    {
      "cell_type": "code",
      "metadata": {
        "colab": {
          "base_uri": "https://localhost:8080/"
        },
        "id": "QOe2RTS1gLWw",
        "outputId": "280ad438-5b80-4f4f-88dc-6a837650c68a"
      },
      "source": [
        "# Initialising the RNN ( with four layers)\n",
        "regressor = Sequential()\n",
        "function = \"relu\"\n",
        "\n",
        "# Adding the first RNN layer and some Dropout regularization\n",
        "regressor.add(SimpleRNN(units = 50, activation=function, return_sequences = True, input_shape = (X_train.shape[1], 1)))\n",
        "regressor.add(Dropout(0.2))\n",
        "\n",
        "# Adding a second RNN layer and some Dropout regularization\n",
        "regressor.add(SimpleRNN(units = 50, activation=function, return_sequences = True))\n",
        "regressor.add(Dropout(0.2))\n",
        "\n",
        "# Adding a third RNN layer and some Dropout regularization\n",
        "regressor.add(SimpleRNN(units = 50, activation=function, return_sequences = True))\n",
        "regressor.add(Dropout(0.2))\n",
        "\n",
        "# Adding a fourth RNN layer and some Dropout regularization\n",
        "regressor.add(SimpleRNN(units = 50))\n",
        "regressor.add(Dropout(0.2))\n",
        "\n",
        "# Adding the output layer\n",
        "regressor.add(Dense(units = 1))\n",
        "\n",
        "# Compiling the RNN\n",
        "regressor.compile(optimizer = 'adam', loss = 'mean_squared_error')\n",
        "\n",
        "# Fitting the RNN to the Training set\n",
        "regressor.fit(X_train, y_train, epochs = 100, batch_size = 32)\n",
        "# epoch= 100"
      ],
      "execution_count": null,
      "outputs": [
        {
          "output_type": "stream",
          "name": "stdout",
          "text": [
            "Epoch 1/100\n",
            "70/70 [==============================] - 4s 13ms/step - loss: 0.0079\n",
            "Epoch 2/100\n",
            "70/70 [==============================] - 1s 13ms/step - loss: 0.0018\n",
            "Epoch 3/100\n",
            "70/70 [==============================] - 1s 13ms/step - loss: 0.0013\n",
            "Epoch 4/100\n",
            "70/70 [==============================] - 1s 13ms/step - loss: 0.0014\n",
            "Epoch 5/100\n",
            "70/70 [==============================] - 1s 13ms/step - loss: 0.0012\n",
            "Epoch 6/100\n",
            "70/70 [==============================] - 1s 14ms/step - loss: 0.0012\n",
            "Epoch 7/100\n",
            "70/70 [==============================] - 1s 13ms/step - loss: 0.0011\n",
            "Epoch 8/100\n",
            "70/70 [==============================] - 1s 13ms/step - loss: 0.0010\n",
            "Epoch 9/100\n",
            "70/70 [==============================] - 1s 13ms/step - loss: 0.0013\n",
            "Epoch 10/100\n",
            "70/70 [==============================] - 1s 13ms/step - loss: 0.0010\n",
            "Epoch 11/100\n",
            "70/70 [==============================] - 1s 14ms/step - loss: 7.8799e-04\n",
            "Epoch 12/100\n",
            "70/70 [==============================] - 1s 15ms/step - loss: 0.0011\n",
            "Epoch 13/100\n",
            "70/70 [==============================] - 1s 14ms/step - loss: 9.5337e-04\n",
            "Epoch 14/100\n",
            "70/70 [==============================] - 1s 13ms/step - loss: 0.0011\n",
            "Epoch 15/100\n",
            "70/70 [==============================] - 1s 14ms/step - loss: 8.8157e-04\n",
            "Epoch 16/100\n",
            "70/70 [==============================] - 1s 14ms/step - loss: 9.0331e-04\n",
            "Epoch 17/100\n",
            "70/70 [==============================] - 1s 14ms/step - loss: 0.0010\n",
            "Epoch 18/100\n",
            "70/70 [==============================] - 1s 13ms/step - loss: 8.7766e-04\n",
            "Epoch 19/100\n",
            "70/70 [==============================] - 1s 13ms/step - loss: 0.0011\n",
            "Epoch 20/100\n",
            "70/70 [==============================] - 1s 12ms/step - loss: 9.4741e-04\n",
            "Epoch 21/100\n",
            "70/70 [==============================] - 1s 13ms/step - loss: 0.0010\n",
            "Epoch 22/100\n",
            "70/70 [==============================] - 1s 13ms/step - loss: 6.3377e-04\n",
            "Epoch 23/100\n",
            "70/70 [==============================] - 1s 13ms/step - loss: 7.4484e-04\n",
            "Epoch 24/100\n",
            "70/70 [==============================] - 1s 14ms/step - loss: 7.4799e-04\n",
            "Epoch 25/100\n",
            "70/70 [==============================] - 1s 13ms/step - loss: 8.2727e-04\n",
            "Epoch 26/100\n",
            "70/70 [==============================] - 1s 14ms/step - loss: 8.5480e-04\n",
            "Epoch 27/100\n",
            "70/70 [==============================] - 1s 13ms/step - loss: 7.4622e-04\n",
            "Epoch 28/100\n",
            "70/70 [==============================] - 1s 13ms/step - loss: 6.8080e-04\n",
            "Epoch 29/100\n",
            "70/70 [==============================] - 1s 13ms/step - loss: 8.0963e-04\n",
            "Epoch 30/100\n",
            "70/70 [==============================] - 1s 12ms/step - loss: 8.6686e-04\n",
            "Epoch 31/100\n",
            "70/70 [==============================] - 1s 13ms/step - loss: 6.6403e-04\n",
            "Epoch 32/100\n",
            "70/70 [==============================] - 1s 13ms/step - loss: 8.4253e-04\n",
            "Epoch 33/100\n",
            "70/70 [==============================] - 1s 13ms/step - loss: 7.2487e-04\n",
            "Epoch 34/100\n",
            "70/70 [==============================] - 1s 13ms/step - loss: 7.7894e-04\n",
            "Epoch 35/100\n",
            "70/70 [==============================] - 1s 13ms/step - loss: 6.4175e-04\n",
            "Epoch 36/100\n",
            "70/70 [==============================] - 1s 13ms/step - loss: 6.9707e-04\n",
            "Epoch 37/100\n",
            "70/70 [==============================] - 1s 13ms/step - loss: 6.6220e-04\n",
            "Epoch 38/100\n",
            "70/70 [==============================] - 1s 14ms/step - loss: 7.6739e-04\n",
            "Epoch 39/100\n",
            "70/70 [==============================] - 1s 14ms/step - loss: 8.9209e-04\n",
            "Epoch 40/100\n",
            "70/70 [==============================] - 1s 14ms/step - loss: 9.8639e-04\n",
            "Epoch 41/100\n",
            "70/70 [==============================] - 1s 13ms/step - loss: 7.4636e-04\n",
            "Epoch 42/100\n",
            "70/70 [==============================] - 1s 13ms/step - loss: 7.0972e-04\n",
            "Epoch 43/100\n",
            "70/70 [==============================] - 1s 13ms/step - loss: 6.6601e-04\n",
            "Epoch 44/100\n",
            "70/70 [==============================] - 1s 14ms/step - loss: 5.0790e-04\n",
            "Epoch 45/100\n",
            "70/70 [==============================] - 1s 13ms/step - loss: 6.5787e-04\n",
            "Epoch 46/100\n",
            "70/70 [==============================] - 1s 14ms/step - loss: 6.6552e-04\n",
            "Epoch 47/100\n",
            "70/70 [==============================] - 1s 13ms/step - loss: 7.7537e-04\n",
            "Epoch 48/100\n",
            "70/70 [==============================] - 1s 13ms/step - loss: 8.6103e-04\n",
            "Epoch 49/100\n",
            "70/70 [==============================] - 1s 14ms/step - loss: 5.5843e-04\n",
            "Epoch 50/100\n",
            "70/70 [==============================] - 1s 13ms/step - loss: 7.3822e-04\n",
            "Epoch 51/100\n",
            "70/70 [==============================] - 1s 13ms/step - loss: 5.0570e-04\n",
            "Epoch 52/100\n",
            "70/70 [==============================] - 1s 12ms/step - loss: 5.2343e-04\n",
            "Epoch 53/100\n",
            "70/70 [==============================] - 1s 12ms/step - loss: 5.7697e-04\n",
            "Epoch 54/100\n",
            "70/70 [==============================] - 1s 13ms/step - loss: 6.6560e-04\n",
            "Epoch 55/100\n",
            "70/70 [==============================] - 1s 14ms/step - loss: 6.0735e-04\n",
            "Epoch 56/100\n",
            "70/70 [==============================] - 1s 13ms/step - loss: 5.7623e-04\n",
            "Epoch 57/100\n",
            "70/70 [==============================] - 1s 13ms/step - loss: 6.4767e-04\n",
            "Epoch 58/100\n",
            "70/70 [==============================] - 1s 13ms/step - loss: 7.4596e-04\n",
            "Epoch 59/100\n",
            "70/70 [==============================] - 1s 13ms/step - loss: 6.4611e-04\n",
            "Epoch 60/100\n",
            "70/70 [==============================] - 1s 13ms/step - loss: 5.7421e-04\n",
            "Epoch 61/100\n",
            "70/70 [==============================] - 1s 13ms/step - loss: 5.2369e-04\n",
            "Epoch 62/100\n",
            "70/70 [==============================] - 1s 14ms/step - loss: 5.8747e-04\n",
            "Epoch 63/100\n",
            "70/70 [==============================] - 1s 14ms/step - loss: 6.6114e-04\n",
            "Epoch 64/100\n",
            "70/70 [==============================] - 1s 13ms/step - loss: 5.8917e-04\n",
            "Epoch 65/100\n",
            "70/70 [==============================] - 1s 13ms/step - loss: 6.0705e-04\n",
            "Epoch 66/100\n",
            "70/70 [==============================] - 1s 13ms/step - loss: 6.3695e-04\n",
            "Epoch 67/100\n",
            "70/70 [==============================] - 1s 13ms/step - loss: 7.0806e-04\n",
            "Epoch 68/100\n",
            "70/70 [==============================] - 1s 13ms/step - loss: 6.5449e-04\n",
            "Epoch 69/100\n",
            "70/70 [==============================] - 1s 13ms/step - loss: 6.3917e-04\n",
            "Epoch 70/100\n",
            "70/70 [==============================] - 1s 14ms/step - loss: 6.3688e-04\n",
            "Epoch 71/100\n",
            "70/70 [==============================] - 1s 13ms/step - loss: 6.0705e-04\n",
            "Epoch 72/100\n",
            "70/70 [==============================] - 1s 14ms/step - loss: 6.4780e-04\n",
            "Epoch 73/100\n",
            "70/70 [==============================] - 1s 13ms/step - loss: 4.6808e-04\n",
            "Epoch 74/100\n",
            "70/70 [==============================] - 1s 13ms/step - loss: 6.8122e-04\n",
            "Epoch 75/100\n",
            "70/70 [==============================] - 1s 13ms/step - loss: 7.2370e-04\n",
            "Epoch 76/100\n",
            "70/70 [==============================] - 1s 13ms/step - loss: 7.1798e-04\n",
            "Epoch 77/100\n",
            "70/70 [==============================] - 1s 13ms/step - loss: 6.4274e-04\n",
            "Epoch 78/100\n",
            "70/70 [==============================] - 1s 14ms/step - loss: 7.1650e-04\n",
            "Epoch 79/100\n",
            "70/70 [==============================] - 1s 13ms/step - loss: 6.4674e-04\n",
            "Epoch 80/100\n",
            "70/70 [==============================] - 1s 14ms/step - loss: 5.2363e-04\n",
            "Epoch 81/100\n",
            "70/70 [==============================] - 1s 14ms/step - loss: 7.1673e-04\n",
            "Epoch 82/100\n",
            "70/70 [==============================] - 1s 13ms/step - loss: 4.3112e-04\n",
            "Epoch 83/100\n",
            "70/70 [==============================] - 1s 14ms/step - loss: 5.1773e-04\n",
            "Epoch 84/100\n",
            "70/70 [==============================] - 1s 13ms/step - loss: 6.1830e-04\n",
            "Epoch 85/100\n",
            "70/70 [==============================] - 1s 13ms/step - loss: 5.2203e-04\n",
            "Epoch 86/100\n",
            "70/70 [==============================] - 1s 13ms/step - loss: 5.7887e-04\n",
            "Epoch 87/100\n",
            "70/70 [==============================] - 1s 13ms/step - loss: 5.7041e-04\n",
            "Epoch 88/100\n",
            "70/70 [==============================] - 1s 13ms/step - loss: 7.5078e-04\n",
            "Epoch 89/100\n",
            "70/70 [==============================] - 1s 14ms/step - loss: 5.8237e-04\n",
            "Epoch 90/100\n",
            "70/70 [==============================] - 1s 14ms/step - loss: 7.2315e-04\n",
            "Epoch 91/100\n",
            "70/70 [==============================] - 1s 14ms/step - loss: 4.9219e-04\n",
            "Epoch 92/100\n",
            "70/70 [==============================] - 1s 13ms/step - loss: 5.3258e-04\n",
            "Epoch 93/100\n",
            "70/70 [==============================] - 1s 14ms/step - loss: 6.5350e-04\n",
            "Epoch 94/100\n",
            "70/70 [==============================] - 1s 14ms/step - loss: 4.9891e-04\n",
            "Epoch 95/100\n",
            "70/70 [==============================] - 1s 14ms/step - loss: 5.4726e-04\n",
            "Epoch 96/100\n",
            "70/70 [==============================] - 1s 13ms/step - loss: 4.4130e-04\n",
            "Epoch 97/100\n",
            "70/70 [==============================] - 1s 13ms/step - loss: 5.5724e-04\n",
            "Epoch 98/100\n",
            "70/70 [==============================] - 1s 14ms/step - loss: 6.1713e-04\n",
            "Epoch 99/100\n",
            "70/70 [==============================] - 1s 13ms/step - loss: 4.5441e-04\n",
            "Epoch 100/100\n",
            "70/70 [==============================] - 1s 14ms/step - loss: 5.8087e-04\n"
          ]
        },
        {
          "output_type": "execute_result",
          "data": {
            "text/plain": [
              "<keras.callbacks.History at 0x7f3e5676d810>"
            ]
          },
          "metadata": {},
          "execution_count": 420
        }
      ]
    },
    {
      "cell_type": "code",
      "metadata": {
        "id": "262yM4xPhEqA"
      },
      "source": [
        "real_xrp_price = df_test.loc[:, [\"Close\"]].values"
      ],
      "execution_count": null,
      "outputs": []
    },
    {
      "cell_type": "code",
      "metadata": {
        "colab": {
          "base_uri": "https://localhost:8080/"
        },
        "id": "l7YQgiPlhWyR",
        "outputId": "8872cce8-53ea-4c18-bab3-0cc5aba23ff0"
      },
      "source": [
        "real_xrp_price.shape"
      ],
      "execution_count": null,
      "outputs": [
        {
          "output_type": "execute_result",
          "data": {
            "text/plain": [
              "(248, 1)"
            ]
          },
          "metadata": {},
          "execution_count": 423
        }
      ]
    },
    {
      "cell_type": "code",
      "metadata": {
        "id": "Gwdi0u3PhZy1"
      },
      "source": [
        "df_total = pd.concat((df_train['Close'], df_test['Close']), axis = 0)\n",
        "inputs = df_total[len(df_total) - len(df_test) - time_step:].values.reshape(-1,1)\n",
        "inputs = scaler.transform(inputs)  # min max scaler"
      ],
      "execution_count": null,
      "outputs": []
    },
    {
      "cell_type": "code",
      "metadata": {
        "colab": {
          "base_uri": "https://localhost:8080/",
          "height": 295
        },
        "id": "1DGq_Kd1hjjr",
        "outputId": "b05a7e35-43dc-479d-ac3a-8f3d9ff1ca31"
      },
      "source": [
        "X_test = []\n",
        "for i in range(time_step, inputs.shape[0]):\n",
        "    X_test.append(inputs[i-time_step:i, 0])\n",
        "X_test = np.array(X_test)\n",
        "X_test = np.reshape(X_test, (X_test.shape[0], X_test.shape[1], 1))\n",
        "predicted_xrp_price = regressor.predict(X_test)\n",
        "predicted_xrp_price = scaler.inverse_transform(predicted_xrp_price)\n",
        "\n",
        "# Visualising the results\n",
        "plt.plot(real_xrp_price, color = 'red', label = 'Real Bitcoin Price')\n",
        "plt.plot(predicted_xrp_price, color = 'blue', label = 'Predicted Bitcoin Price')\n",
        "plt.title('Bitcoin Price Prediction')\n",
        "plt.xlabel('Time')\n",
        "plt.ylabel('Bitcoin Price')\n",
        "plt.legend()\n",
        "plt.show()"
      ],
      "execution_count": null,
      "outputs": [
        {
          "output_type": "display_data",
          "data": {
            "image/png": "[encoded data removed]",
            "text/plain": [
              "<Figure size 432x288 with 1 Axes>"
            ]
          },
          "metadata": {
            "needs_background": "light"
          }
        }
      ]
    },
    {
      "cell_type": "code",
      "metadata": {
        "id": "n_88r5nyh6b1"
      },
      "source": [
        "##Long Short Time Memory (LSTM)"
      ],
      "execution_count": null,
      "outputs": []
    },
    {
      "cell_type": "code",
      "metadata": {
        "id": "nR0e-KeZh-Jj"
      },
      "source": [
        "import numpy as np\n",
        "import pandas as pd\n",
        "import matplotlib.pyplot as plt\n",
        "import math\n",
        "from keras.models import Sequential\n",
        "from keras.layers import Dense\n",
        "from keras.layers import LSTM\n",
        "from sklearn.preprocessing import MinMaxScaler\n",
        "from sklearn.metrics import mean_squared_error\n",
        "\n",
        "import warnings\n",
        "warnings.filterwarnings(\"ignore\")"
      ],
      "execution_count": null,
      "outputs": []
    },
    {
      "cell_type": "code",
      "metadata": {
        "colab": {
          "base_uri": "https://localhost:8080/"
        },
        "id": "8JwuSbQah_qX",
        "outputId": "7dd7bc91-d9da-4334-aefd-b4b8d73a9380"
      },
      "source": [
        "train_size = int(len(grouped_data) * 0.90)\n",
        "test_size = len(grouped_data) - train_size\n",
        "df_train = grouped_data.iloc[0:train_size, :]\n",
        "df_test = grouped_data.iloc[train_size:len(grouped_data), :]\n",
        "print(\"DF_Train size: {}, DF_Test size: {}\". format(len(df_train), len(df_test)))"
      ],
      "execution_count": null,
      "outputs": [
        {
          "output_type": "stream",
          "name": "stdout",
          "text": [
            "DF_Train size: 2229, DF_Test size: 248\n"
          ]
        }
      ]
    },
    {
      "cell_type": "code",
      "metadata": {
        "colab": {
          "base_uri": "https://localhost:8080/",
          "height": 295
        },
        "id": "j9nAB4MuiHmJ",
        "outputId": "93a470e9-3c02-4d80-a499-fcaf7f359765"
      },
      "source": [
        "data_plot = df_train.loc[:, [\"Close\"]].values\n",
        "plt.plot(data_plot)\n",
        "plt.xlabel(\"Time\")\n",
        "plt.ylabel(\"Values of Close\")\n",
        "plt.title(\"XRP Close Prices\")\n",
        "plt.show()"
      ],
      "execution_count": null,
      "outputs": [
        {
          "output_type": "display_data",
          "data": {
            "image/png": "[encoded data removed]",
            "text/plain": [
              "<Figure size 432x288 with 1 Axes>"
            ]
          },
          "metadata": {
            "needs_background": "light"
          }
        }
      ]
    },
    {
      "cell_type": "code",
      "metadata": {
        "colab": {
          "base_uri": "https://localhost:8080/"
        },
        "id": "i_5rlE4XiM6v",
        "outputId": "77896735-8bf0-4283-c386-4db68e631a39"
      },
      "source": [
        "dataset = df_train.loc[:, [\"Close\"]].values\n",
        "dataset.shape"
      ],
      "execution_count": null,
      "outputs": [
        {
          "output_type": "execute_result",
          "data": {
            "text/plain": [
              "(2229, 1)"
            ]
          },
          "metadata": {},
          "execution_count": 430
        }
      ]
    },
    {
      "cell_type": "code",
      "metadata": {
        "colab": {
          "base_uri": "https://localhost:8080/"
        },
        "id": "-fF3blzJiOnk",
        "outputId": "7849f21f-5d53-47ff-ed6b-d182963a7a5d"
      },
      "source": [
        "#reshape\n",
        "dataset = dataset.reshape(-1, 1)\n",
        "\n",
        "#change type\n",
        "dataset = dataset.astype(\"float32\")\n",
        "dataset.shape"
      ],
      "execution_count": null,
      "outputs": [
        {
          "output_type": "execute_result",
          "data": {
            "text/plain": [
              "(2229, 1)"
            ]
          },
          "metadata": {},
          "execution_count": 431
        }
      ]
    },
    {
      "cell_type": "code",
      "metadata": {
        "id": "vbbMjAMgiQN-"
      },
      "source": [
        "# Feature Scaling\n",
        "from sklearn.preprocessing import MinMaxScaler\n",
        "scaler = MinMaxScaler(feature_range = (0, 1))\n",
        "data_scaled = scaler.fit_transform(dataset)"
      ],
      "execution_count": null,
      "outputs": []
    },
    {
      "cell_type": "code",
      "metadata": {
        "colab": {
          "base_uri": "https://localhost:8080/",
          "height": 295
        },
        "id": "zvOZePBkiSk_",
        "outputId": "61451fe3-96a2-4ea5-e41c-ec1ee03c47c5"
      },
      "source": [
        "plt.plot(data_scaled)\n",
        "plt.xlabel(\"Time\")\n",
        "plt.ylabel(\"Values of Close\")\n",
        "plt.title(\"XRP Close Price (Scaled)\")\n",
        "plt.show()"
      ],
      "execution_count": null,
      "outputs": [
        {
          "output_type": "display_data",
          "data": {
            "image/png": "[encoded data removed]",
            "text/plain": [
              "<Figure size 432x288 with 1 Axes>"
            ]
          },
          "metadata": {
            "needs_background": "light"
          }
        }
      ]
    },
    {
      "cell_type": "code",
      "metadata": {
        "colab": {
          "base_uri": "https://localhost:8080/"
        },
        "id": "efW72OQ-ieGj",
        "outputId": "73207a1e-6f4d-442f-b7a1-1154ac690993"
      },
      "source": [
        "# We divide the DATA_SCALED by Training %50, Test %50\n",
        "train_size = int(len(data_scaled) * 0.50)\n",
        "test_size = len(data_scaled) - train_size\n",
        "data_scaled_train = data_scaled[0:train_size, :]\n",
        "data_scaled_test = data_scaled[train_size:len(data_scaled), :]\n",
        "\n",
        "print(\"data_scaled_train size: {}\\ndata_scaled_test size: {}\". format(len(data_scaled_train), len(data_scaled_test)))\n",
        "print(\"data_scaled_train shape: {}\\ndata_scaled_test shape: {}\". format(data_scaled_train.shape, data_scaled_test.shape))"
      ],
      "execution_count": null,
      "outputs": [
        {
          "output_type": "stream",
          "name": "stdout",
          "text": [
            "data_scaled_train size: 1114\n",
            "data_scaled_test size: 1115\n",
            "data_scaled_train shape: (1114, 1)\n",
            "data_scaled_test shape: (1115, 1)\n"
          ]
        }
      ]
    },
    {
      "cell_type": "code",
      "metadata": {
        "colab": {
          "base_uri": "https://localhost:8080/"
        },
        "id": "NwnL-NHWilQd",
        "outputId": "bc377cc4-4535-4fed-e35f-b7d27de07f5c"
      },
      "source": [
        "# Creating a data structure with 10 time_step and 1 output (TRAIN)\n",
        "time_step = 10\n",
        "dataX = []\n",
        "dataY = []\n",
        "for i in range(len(data_scaled_train) - time_step - 1):\n",
        "    a = data_scaled_train[i:(i + time_step), 0]\n",
        "    dataX.append(a)\n",
        "    dataY.append(data_scaled_train[i + time_step, 0])\n",
        "trainX = np.array(dataX)\n",
        "trainY = np.array(dataY)\n",
        "\n",
        "print(\"trainX shape: {}\\ntrainY shape: {}\". format(trainX.shape, trainY.shape))"
      ],
      "execution_count": null,
      "outputs": [
        {
          "output_type": "stream",
          "name": "stdout",
          "text": [
            "trainX shape: (1103, 10)\n",
            "trainY shape: (1103,)\n"
          ]
        }
      ]
    },
    {
      "cell_type": "code",
      "metadata": {
        "colab": {
          "base_uri": "https://localhost:8080/"
        },
        "id": "GWWaNi55in-f",
        "outputId": "9cadca2b-70bd-4885-afa8-3fc89517d25f"
      },
      "source": [
        "# Creating a data structure with 10 time_step and 1 output (TEST)\n",
        "dataX = []\n",
        "dataY = []\n",
        "for i in range(len(data_scaled_test) - time_step -1):\n",
        "    a = data_scaled_test[i:(i + time_step), 0]\n",
        "    dataX.append(a)\n",
        "    dataY.append(data_scaled_test[i + time_step, 0])\n",
        "testX = np.array(dataX)\n",
        "testY = np.array(dataY)\n",
        "\n",
        "print(\"testX shape: {}\\ntestY shape: {}\". format(testX.shape, testY.shape))"
      ],
      "execution_count": null,
      "outputs": [
        {
          "output_type": "stream",
          "name": "stdout",
          "text": [
            "testX shape: (1104, 10)\n",
            "testY shape: (1104,)\n"
          ]
        }
      ]
    },
    {
      "cell_type": "code",
      "metadata": {
        "colab": {
          "base_uri": "https://localhost:8080/"
        },
        "id": "frZfQigPiqtr",
        "outputId": "1ce3a2dc-daee-44da-e8cb-0e7f85dc29eb"
      },
      "source": [
        "# Reshaping to 3D\n",
        "trainX = np.reshape(trainX, (trainX.shape[0], 1, trainX.shape[1]))\n",
        "testX = np.reshape(testX, (testX.shape[0], 1, testX.shape[1]))\n",
        "\n",
        "print(\"X_train shape: \",trainX.shape)\n",
        "print(\"X_test shape: \",testX.shape)"
      ],
      "execution_count": null,
      "outputs": [
        {
          "output_type": "stream",
          "name": "stdout",
          "text": [
            "X_train shape:  (1103, 1, 10)\n",
            "X_test shape:  (1104, 1, 10)\n"
          ]
        }
      ]
    },
    {
      "cell_type": "code",
      "metadata": {
        "id": "SF4Ltn_9iscz"
      },
      "source": [
        "##Modeling (LSTM)"
      ],
      "execution_count": null,
      "outputs": []
    },
    {
      "cell_type": "code",
      "metadata": {
        "id": "SNCfX-r1iuoU"
      },
      "source": [
        "# Importing the Keras libraries and packages\n",
        "from keras.models import Sequential\n",
        "from keras.layers import Dense\n",
        "from keras.layers import LSTM\n",
        "from keras.layers import Dropout\n",
        "from keras.layers import Activation"
      ],
      "execution_count": null,
      "outputs": []
    },
    {
      "cell_type": "code",
      "metadata": {
        "colab": {
          "base_uri": "https://localhost:8080/"
        },
        "id": "-FmEUUQ0iwQr",
        "outputId": "1c52199e-7ed8-49fa-c084-042e4654bca0"
      },
      "source": [
        "# model\n",
        "model = Sequential()\n",
        "model.add(LSTM(256, input_shape = (1, time_step))) # 256 LSTM neuron(block)\n",
        "model.add(Dropout(0.2))\n",
        "model.add(Dense(1))\n",
        "model.compile(loss= \"mean_squared_error\", optimizer = \"adam\")\n",
        "model.fit(trainX, trainY, epochs=100, batch_size=50)"
      ],
      "execution_count": null,
      "outputs": [
        {
          "output_type": "stream",
          "name": "stdout",
          "text": [
            "Epoch 1/100\n",
            "23/23 [==============================] - 2s 10ms/step - loss: 0.0062\n",
            "Epoch 2/100\n",
            "23/23 [==============================] - 0s 9ms/step - loss: 0.0016\n",
            "Epoch 3/100\n",
            "23/23 [==============================] - 0s 10ms/step - loss: 0.0013\n",
            "Epoch 4/100\n",
            "23/23 [==============================] - 0s 9ms/step - loss: 0.0012\n",
            "Epoch 5/100\n",
            "23/23 [==============================] - 0s 9ms/step - loss: 0.0011\n",
            "Epoch 6/100\n",
            "23/23 [==============================] - 0s 9ms/step - loss: 8.9383e-04\n",
            "Epoch 7/100\n",
            "23/23 [==============================] - 0s 9ms/step - loss: 7.6000e-04\n",
            "Epoch 8/100\n",
            "23/23 [==============================] - 0s 9ms/step - loss: 7.2081e-04\n",
            "Epoch 9/100\n",
            "23/23 [==============================] - 0s 8ms/step - loss: 5.9530e-04\n",
            "Epoch 10/100\n",
            "23/23 [==============================] - 0s 9ms/step - loss: 5.3618e-04\n",
            "Epoch 11/100\n",
            "23/23 [==============================] - 0s 8ms/step - loss: 4.4746e-04\n",
            "Epoch 12/100\n",
            "23/23 [==============================] - 0s 9ms/step - loss: 4.1731e-04\n",
            "Epoch 13/100\n",
            "23/23 [==============================] - 0s 9ms/step - loss: 4.5918e-04\n",
            "Epoch 14/100\n",
            "23/23 [==============================] - 0s 9ms/step - loss: 5.0213e-04\n",
            "Epoch 15/100\n",
            "23/23 [==============================] - 0s 9ms/step - loss: 4.3001e-04\n",
            "Epoch 16/100\n",
            "23/23 [==============================] - 0s 8ms/step - loss: 3.9567e-04\n",
            "Epoch 17/100\n",
            "23/23 [==============================] - 0s 9ms/step - loss: 3.6773e-04\n",
            "Epoch 18/100\n",
            "23/23 [==============================] - 0s 9ms/step - loss: 3.5656e-04\n",
            "Epoch 19/100\n",
            "23/23 [==============================] - 0s 9ms/step - loss: 3.6389e-04\n",
            "Epoch 20/100\n",
            "23/23 [==============================] - 0s 9ms/step - loss: 4.2062e-04\n",
            "Epoch 21/100\n",
            "23/23 [==============================] - 0s 9ms/step - loss: 3.5646e-04\n",
            "Epoch 22/100\n",
            "23/23 [==============================] - 0s 9ms/step - loss: 3.4111e-04\n",
            "Epoch 23/100\n",
            "23/23 [==============================] - 0s 9ms/step - loss: 3.9214e-04\n",
            "Epoch 24/100\n",
            "23/23 [==============================] - 0s 9ms/step - loss: 3.5094e-04\n",
            "Epoch 25/100\n",
            "23/23 [==============================] - 0s 9ms/step - loss: 3.5558e-04\n",
            "Epoch 26/100\n",
            "23/23 [==============================] - 0s 8ms/step - loss: 4.8717e-04\n",
            "Epoch 27/100\n",
            "23/23 [==============================] - 0s 9ms/step - loss: 3.7820e-04\n",
            "Epoch 28/100\n",
            "23/23 [==============================] - 0s 8ms/step - loss: 4.0182e-04\n",
            "Epoch 29/100\n",
            "23/23 [==============================] - 0s 9ms/step - loss: 3.4515e-04\n",
            "Epoch 30/100\n",
            "23/23 [==============================] - 0s 8ms/step - loss: 3.8648e-04\n",
            "Epoch 31/100\n",
            "23/23 [==============================] - 0s 9ms/step - loss: 2.9258e-04\n",
            "Epoch 32/100\n",
            "23/23 [==============================] - 0s 9ms/step - loss: 3.3558e-04\n",
            "Epoch 33/100\n",
            "23/23 [==============================] - 0s 9ms/step - loss: 4.0322e-04\n",
            "Epoch 34/100\n",
            "23/23 [==============================] - 0s 9ms/step - loss: 4.1897e-04\n",
            "Epoch 35/100\n",
            "23/23 [==============================] - 0s 9ms/step - loss: 3.3471e-04\n",
            "Epoch 36/100\n",
            "23/23 [==============================] - 0s 9ms/step - loss: 2.8376e-04\n",
            "Epoch 37/100\n",
            "23/23 [==============================] - 0s 8ms/step - loss: 3.2211e-04\n",
            "Epoch 38/100\n",
            "23/23 [==============================] - 0s 8ms/step - loss: 3.5354e-04\n",
            "Epoch 39/100\n",
            "23/23 [==============================] - 0s 9ms/step - loss: 3.6554e-04\n",
            "Epoch 40/100\n",
            "23/23 [==============================] - 0s 8ms/step - loss: 3.2823e-04\n",
            "Epoch 41/100\n",
            "23/23 [==============================] - 0s 8ms/step - loss: 2.8487e-04\n",
            "Epoch 42/100\n",
            "23/23 [==============================] - 0s 8ms/step - loss: 4.2258e-04\n",
            "Epoch 43/100\n",
            "23/23 [==============================] - 0s 9ms/step - loss: 2.9185e-04\n",
            "Epoch 44/100\n",
            "23/23 [==============================] - 0s 9ms/step - loss: 3.2300e-04\n",
            "Epoch 45/100\n",
            "23/23 [==============================] - 0s 9ms/step - loss: 6.0023e-04\n",
            "Epoch 46/100\n",
            "23/23 [==============================] - 0s 10ms/step - loss: 3.2344e-04\n",
            "Epoch 47/100\n",
            "23/23 [==============================] - 0s 9ms/step - loss: 3.8355e-04\n",
            "Epoch 48/100\n",
            "23/23 [==============================] - 0s 9ms/step - loss: 3.8889e-04\n",
            "Epoch 49/100\n",
            "23/23 [==============================] - 0s 9ms/step - loss: 3.6554e-04\n",
            "Epoch 50/100\n",
            "23/23 [==============================] - 0s 9ms/step - loss: 3.5474e-04\n",
            "Epoch 51/100\n",
            "23/23 [==============================] - 0s 9ms/step - loss: 2.7861e-04\n",
            "Epoch 52/100\n",
            "23/23 [==============================] - 0s 9ms/step - loss: 2.7350e-04\n",
            "Epoch 53/100\n",
            "23/23 [==============================] - 0s 9ms/step - loss: 3.5550e-04\n",
            "Epoch 54/100\n",
            "23/23 [==============================] - 0s 8ms/step - loss: 3.2096e-04\n",
            "Epoch 55/100\n",
            "23/23 [==============================] - 0s 8ms/step - loss: 3.1111e-04\n",
            "Epoch 56/100\n",
            "23/23 [==============================] - 0s 8ms/step - loss: 3.2760e-04\n",
            "Epoch 57/100\n",
            "23/23 [==============================] - 0s 8ms/step - loss: 2.9936e-04\n",
            "Epoch 58/100\n",
            "23/23 [==============================] - 0s 8ms/step - loss: 2.9197e-04\n",
            "Epoch 59/100\n",
            "23/23 [==============================] - 0s 9ms/step - loss: 3.5657e-04\n",
            "Epoch 60/100\n",
            "23/23 [==============================] - 0s 8ms/step - loss: 2.9961e-04\n",
            "Epoch 61/100\n",
            "23/23 [==============================] - 0s 8ms/step - loss: 2.7083e-04\n",
            "Epoch 62/100\n",
            "23/23 [==============================] - 0s 9ms/step - loss: 3.4843e-04\n",
            "Epoch 63/100\n",
            "23/23 [==============================] - 0s 9ms/step - loss: 2.8170e-04\n",
            "Epoch 64/100\n",
            "23/23 [==============================] - 0s 8ms/step - loss: 3.1716e-04\n",
            "Epoch 65/100\n",
            "23/23 [==============================] - 0s 8ms/step - loss: 3.4733e-04\n",
            "Epoch 66/100\n",
            "23/23 [==============================] - 0s 8ms/step - loss: 2.8585e-04\n",
            "Epoch 67/100\n",
            "23/23 [==============================] - 0s 9ms/step - loss: 3.1802e-04\n",
            "Epoch 68/100\n",
            "23/23 [==============================] - 0s 8ms/step - loss: 3.2980e-04\n",
            "Epoch 69/100\n",
            "23/23 [==============================] - 0s 9ms/step - loss: 2.6643e-04\n",
            "Epoch 70/100\n",
            "23/23 [==============================] - 0s 9ms/step - loss: 2.9405e-04\n",
            "Epoch 71/100\n",
            "23/23 [==============================] - 0s 9ms/step - loss: 2.7961e-04\n",
            "Epoch 72/100\n",
            "23/23 [==============================] - 0s 9ms/step - loss: 3.3584e-04\n",
            "Epoch 73/100\n",
            "23/23 [==============================] - 0s 9ms/step - loss: 3.2118e-04\n",
            "Epoch 74/100\n",
            "23/23 [==============================] - 0s 8ms/step - loss: 2.7052e-04\n",
            "Epoch 75/100\n",
            "23/23 [==============================] - 0s 10ms/step - loss: 5.3309e-04\n",
            "Epoch 76/100\n",
            "23/23 [==============================] - 0s 11ms/step - loss: 3.3265e-04\n",
            "Epoch 77/100\n",
            "23/23 [==============================] - 0s 9ms/step - loss: 2.7910e-04\n",
            "Epoch 78/100\n",
            "23/23 [==============================] - 0s 9ms/step - loss: 3.0812e-04\n",
            "Epoch 79/100\n",
            "23/23 [==============================] - 0s 8ms/step - loss: 2.9137e-04\n",
            "Epoch 80/100\n",
            "23/23 [==============================] - 0s 8ms/step - loss: 2.8731e-04\n",
            "Epoch 81/100\n",
            "23/23 [==============================] - 0s 9ms/step - loss: 3.0188e-04\n",
            "Epoch 82/100\n",
            "23/23 [==============================] - 0s 9ms/step - loss: 2.7145e-04\n",
            "Epoch 83/100\n",
            "23/23 [==============================] - 0s 9ms/step - loss: 3.3586e-04\n",
            "Epoch 84/100\n",
            "23/23 [==============================] - 0s 9ms/step - loss: 3.2043e-04\n",
            "Epoch 85/100\n",
            "23/23 [==============================] - 0s 9ms/step - loss: 3.0127e-04\n",
            "Epoch 86/100\n",
            "23/23 [==============================] - 0s 9ms/step - loss: 2.7940e-04\n",
            "Epoch 87/100\n",
            "23/23 [==============================] - 0s 9ms/step - loss: 3.2918e-04\n",
            "Epoch 88/100\n",
            "23/23 [==============================] - 0s 8ms/step - loss: 2.7147e-04\n",
            "Epoch 89/100\n",
            "23/23 [==============================] - 0s 9ms/step - loss: 3.9419e-04\n",
            "Epoch 90/100\n",
            "23/23 [==============================] - 0s 9ms/step - loss: 2.8281e-04\n",
            "Epoch 91/100\n",
            "23/23 [==============================] - 0s 9ms/step - loss: 2.8363e-04\n",
            "Epoch 92/100\n",
            "23/23 [==============================] - 0s 8ms/step - loss: 2.8670e-04\n",
            "Epoch 93/100\n",
            "23/23 [==============================] - 0s 9ms/step - loss: 2.7349e-04\n",
            "Epoch 94/100\n",
            "23/23 [==============================] - 0s 8ms/step - loss: 3.2266e-04\n",
            "Epoch 95/100\n",
            "23/23 [==============================] - 0s 9ms/step - loss: 3.8527e-04\n",
            "Epoch 96/100\n",
            "23/23 [==============================] - 0s 9ms/step - loss: 2.9528e-04\n",
            "Epoch 97/100\n",
            "23/23 [==============================] - 0s 9ms/step - loss: 3.3930e-04\n",
            "Epoch 98/100\n",
            "23/23 [==============================] - 0s 9ms/step - loss: 2.4282e-04\n",
            "Epoch 99/100\n",
            "23/23 [==============================] - 0s 8ms/step - loss: 4.1118e-04\n",
            "Epoch 100/100\n",
            "23/23 [==============================] - 0s 9ms/step - loss: 3.7523e-04\n"
          ]
        },
        {
          "output_type": "execute_result",
          "data": {
            "text/plain": [
              "<keras.callbacks.History at 0x7f3e4dcc0a90>"
            ]
          },
          "metadata": {},
          "execution_count": 439
        }
      ]
    },
    {
      "cell_type": "code",
      "metadata": {
        "colab": {
          "base_uri": "https://localhost:8080/"
        },
        "id": "ZlVeZUASi3B5",
        "outputId": "a6869a03-ddaf-47d0-afd0-9a4386e8288d"
      },
      "source": [
        "model.summary()"
      ],
      "execution_count": null,
      "outputs": [
        {
          "output_type": "stream",
          "name": "stdout",
          "text": [
            "Model: \"sequential_1\"\n",
            "_________________________________________________________________\n",
            " Layer (type)                Output Shape              Param #   \n",
            "=================================================================\n",
            " lstm (LSTM)                 (None, 256)               273408    \n",
            "                                                                 \n",
            " dropout_4 (Dropout)         (None, 256)               0         \n",
            "                                                                 \n",
            " dense_1 (Dense)             (None, 1)                 257       \n",
            "                                                                 \n",
            "=================================================================\n",
            "Total params: 273,665\n",
            "Trainable params: 273,665\n",
            "Non-trainable params: 0\n",
            "_________________________________________________________________\n"
          ]
        }
      ]
    },
    {
      "cell_type": "code",
      "metadata": {
        "colab": {
          "base_uri": "https://localhost:8080/"
        },
        "id": "MbWvccH2i_Hn",
        "outputId": "762e0ca2-d46e-4cfd-ed4d-bde2a82554e3"
      },
      "source": [
        "trainPredict = model.predict(trainX)\n",
        "testPredict = model.predict(testX)\n",
        "\n",
        "# invert predictions\n",
        "trainPredict = scaler.inverse_transform(trainPredict)\n",
        "trainY_ = scaler.inverse_transform([trainY])\n",
        "testPredict = scaler.inverse_transform(testPredict)\n",
        "testY_ = scaler.inverse_transform([testY])\n",
        "\n",
        "# calculate root mean squared error\n",
        "trainscore = math.sqrt(mean_squared_error(trainY_[0], trainPredict[:, 0]))\n",
        "print(\"Train Score: %.2f RMSE\" % (trainscore))\n",
        "testscore = math.sqrt(mean_squared_error(testY_[0], testPredict[:, 0]))\n",
        "print(\"Test Score: %.2f RMSE\" % (testscore))"
      ],
      "execution_count": null,
      "outputs": [
        {
          "output_type": "stream",
          "name": "stdout",
          "text": [
            "Train Score: 0.05 RMSE\n",
            "Test Score: 0.04 RMSE\n"
          ]
        }
      ]
    },
    {
      "cell_type": "code",
      "metadata": {
        "colab": {
          "base_uri": "https://localhost:8080/",
          "height": 283
        },
        "id": "yDuJ-27kjDEH",
        "outputId": "1940de7c-57e8-45b7-a40f-e90c5a308f3b"
      },
      "source": [
        "# shifting train\n",
        "trainPredictPlot = np.empty_like(data_scaled)\n",
        "trainPredictPlot[:, :] = np.nan\n",
        "trainPredictPlot[time_step:len(trainPredict) + time_step, :] = trainPredict\n",
        "# shifting test predictions for plotting\n",
        "testPredictPlot = np.empty_like(data_scaled)\n",
        "testPredictPlot[:, :] = np.nan\n",
        "testPredictPlot[len(trainPredict) + (time_step * 2) + 1:len(data_scaled) - 1, :] = testPredict\n",
        "# plot baseline and predictions\n",
        "plt.plot(scaler.inverse_transform(data_scaled))\n",
        "plt.plot(trainPredictPlot)\n",
        "plt.plot(testPredictPlot)\n",
        "#plt.xlim(2500,3200)\n",
        "plt.legend()\n",
        "plt.show()"
      ],
      "execution_count": null,
      "outputs": [
        {
          "output_type": "stream",
          "name": "stderr",
          "text": [
            "No handles with labels found to put in legend.\n"
          ]
        },
        {
          "output_type": "display_data",
          "data": {
            "image/png": "[encoded data removed]",
            "text/plain": [
              "<Figure size 432x288 with 1 Axes>"
            ]
          },
          "metadata": {
            "needs_background": "light"
          }
        }
      ]
    },
    {
      "cell_type": "code",
      "metadata": {
        "colab": {
          "base_uri": "https://localhost:8080/",
          "height": 295
        },
        "id": "s6RLTOxEjGe3",
        "outputId": "77d2173b-9ade-47ac-f7a4-7aedf09fea45"
      },
      "source": [
        "# Visualising the results\n",
        "plt.plot(scaler.inverse_transform(data_scaled), color = 'red', label = 'Real XRP Price')\n",
        "plt.plot(testPredictPlot, color = 'blue', label = 'Predicted XRP Price')\n",
        "plt.title('XRP Price Prediction')\n",
        "plt.xlabel('Time')\n",
        "plt.ylabel('XRP Price')\n",
        "plt.legend()\n",
        "plt.show()"
      ],
      "execution_count": null,
      "outputs": [
        {
          "output_type": "display_data",
          "data": {
            "image/png": "[encoded data removed]",
            "text/plain": [
              "<Figure size 432x288 with 1 Axes>"
            ]
          },
          "metadata": {
            "needs_background": "light"
          }
        }
      ]
    },
    {
      "cell_type": "code",
      "metadata": {
        "colab": {
          "base_uri": "https://localhost:8080/"
        },
        "id": "T8G5YQzIkup4",
        "outputId": "07f719ce-5c29-4767-86d4-078c7b68cd9f"
      },
      "source": [
        "print(testPredictPlot)"
      ],
      "execution_count": null,
      "outputs": [
        {
          "output_type": "stream",
          "name": "stdout",
          "text": [
            "[[       nan]\n",
            " [       nan]\n",
            " [       nan]\n",
            " ...\n",
            " [0.509462  ]\n",
            " [0.48175135]\n",
            " [       nan]]\n"
          ]
        }
      ]
    }
  ]
}
